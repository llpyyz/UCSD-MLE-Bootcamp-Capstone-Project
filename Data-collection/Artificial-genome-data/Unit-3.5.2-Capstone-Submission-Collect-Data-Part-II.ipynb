{
 "cells": [
  {
   "cell_type": "markdown",
   "id": "c1532eff",
   "metadata": {},
   "source": [
    "# Unit 3.5.2 - Capstone Submission - Collect Data, Part II: Artifical Genome data"
   ]
  },
  {
   "cell_type": "markdown",
   "id": "dd9d188d",
   "metadata": {},
   "source": [
    "## David Schonberger, 12/21/2021"
   ]
  },
  {
   "cell_type": "markdown",
   "id": "6f529ffe",
   "metadata": {},
   "source": [
    "### Dataset 2 -> See 'Idea 3: Apply ML/DL to Genomics: Generating artificial human genomes via Deep Neural Networks (GANs)' (https://docs.google.com/document/d/1MsBeSa2sujr_A1eT3QPI7kjxqXY9FjGO2xeVg_gJLJY/edit?usp=sharing) "
   ]
  },
  {
   "cell_type": "markdown",
   "id": "7613d74d",
   "metadata": {},
   "source": [
    "### I visited https://www.internationalgenome.org/data-portal/data-collection/30x-grch38 to get a taste of some of the genomic data available."
   ]
  },
  {
   "cell_type": "markdown",
   "id": "7ef94fb1",
   "metadata": {},
   "source": [
    "### This page has links to 3202 samples spread across 26 populations from the 1000 Genomes Project that were sequenced to 30x coverage. See https://sequencing.com/blog/post/what-30x-and-04x-whole-genome-sequencing for some further information on what 30x coverage means in terms of Whole genome Sequencing (WGS). "
   ]
  },
  {
   "cell_type": "markdown",
   "id": "3274527d",
   "metadata": {},
   "source": [
    "### I elected to download some data from the Gambian Mandinka population. (See https://www.internationalgenome.org/data-portal/population/GWD) "
   ]
  },
  {
   "cell_type": "markdown",
   "id": "ea7966f3",
   "metadata": {},
   "source": [
    "### I chose to download two .fastq files from the ftp.sra.ebi.ac.uk FTP server. (See https://en.wikipedia.org/wiki/FASTQ_format for more information on the fastq file format.) I installed the WinSCP ftp client and connected anonymously to the server. Then I downloaded the two gzipped files, SRR794636_1.fastq.gz and SRR794636_2.fastq.gz. Each fastq file is about 436.5 MB and contain 9,713,256 lines of data. But the data comes in blocks of four lines, as the above wikipedia article explains. Here is a small sample of one of the files:"
   ]
  },
  {
   "cell_type": "code",
   "execution_count": 6,
   "id": "9433369c",
   "metadata": {},
   "outputs": [
    {
     "data": {
      "text/plain": [
       "'C:\\\\Users\\\\david\\\\Documents\\\\ML\\\\gitworkspace\\\\UCSD-MLE-Bootcamp-Capstone-Project\\\\Data-collection\\\\Artificial-genome-data'"
      ]
     },
     "execution_count": 6,
     "metadata": {},
     "output_type": "execute_result"
    }
   ],
   "source": [
    "import os\n",
    "os.getcwd()"
   ]
  },
  {
   "cell_type": "code",
   "execution_count": 10,
   "id": "3db83235",
   "metadata": {},
   "outputs": [
    {
     "data": {
      "text/plain": [
       "'C:\\\\Users\\\\david\\\\Documents\\\\ML\\\\gitworkspace\\\\UCSD-MLE-Bootcamp-Capstone-Project\\\\Data-collection\\\\Artificial-genome-data\\\\SRR794636_1.fastq\\\\SRR794636_1.fastq'"
      ]
     },
     "execution_count": 10,
     "metadata": {},
     "output_type": "execute_result"
    }
   ],
   "source": [
    "file_path = r'SRR794636_1.fastq\\SRR794636_1.fastq'\n",
    "path = os.path.join(os.getcwd(), file_path)\n",
    "path"
   ]
  },
  {
   "cell_type": "code",
   "execution_count": 11,
   "id": "ad1cf6ad",
   "metadata": {},
   "outputs": [],
   "source": [
    "with open(path, 'r') as f:\n",
    "    data = f.readlines()"
   ]
  },
  {
   "cell_type": "code",
   "execution_count": 13,
   "id": "7f67e840",
   "metadata": {},
   "outputs": [
    {
     "data": {
      "text/plain": [
       "['@SRR794636.1 1/1',\n",
       " 'CCAAGTCGGCCGTCGTCTTCTGCAGCTCTGGAGACCTGATGCTGGGGAAGGGCATGCCTGGCATCACCACACACCT',\n",
       " '+',\n",
       " 'BB@FFDFFHHGHHIJJIJIIIJGEIIIJEIGIJEGGIJFHJGGIJJJFGHIGEHHEEFFFDEEEECCCDDBDDDD?',\n",
       " '@SRR794636.2 2/1',\n",
       " 'GCGGTGGCCTATAAAGCCTCCTAGTCTGGCTCCAAGGCCTGGCAGAGTCTTTCCCAGGGAAAGCTACAAGCAGCAA',\n",
       " '+',\n",
       " '@@@D=@DDDDF<:ABF4<:?CCFH?F94CFCFC<F?FFGEDFGFB;(/?FBC<CCF>C<;CD@)?:?E:BDB@D>>']"
      ]
     },
     "execution_count": 13,
     "metadata": {},
     "output_type": "execute_result"
    }
   ],
   "source": [
    "data = [d.strip() for d in data]\n",
    "data[0:8]"
   ]
  },
  {
   "cell_type": "markdown",
   "id": "5e7cfb48",
   "metadata": {},
   "source": [
    "#### The first line in a block of four is an indentifier."
   ]
  },
  {
   "cell_type": "markdown",
   "id": "c2edc200",
   "metadata": {},
   "source": [
    "#### The second line in a block of four is a nucleobase sequence where the letters A, C, G and T are abbreviations for the four fundamental nucleobases found in DNA, namely adenine, cytosine, guanine, and thymine."
   ]
  },
  {
   "cell_type": "markdown",
   "id": "dcb7399a",
   "metadata": {},
   "source": [
    "#### The third line ('+') in a block of four is a separator"
   ]
  },
  {
   "cell_type": "markdown",
   "id": "86fa4d32",
   "metadata": {},
   "source": [
    "#### The fourth line in a block of four represents quality values, one of 94 possible bytes beteen 0x21 and 0x7e. The foruth and second lines in a block must have the exact same number of characters - one quality value byte for each nucleobase sequenced. A quality value byte is an integer mapping of how likely the corresponding nucleobase indicated is incorrect. the above wikipedia article discusses a couple of formulas that convert $p$, the probability of an incorrect nucleobase, into a Q-score."
   ]
  }
 ],
 "metadata": {
  "kernelspec": {
   "display_name": "Python 3 (ipykernel)",
   "language": "python",
   "name": "python3"
  },
  "language_info": {
   "codemirror_mode": {
    "name": "ipython",
    "version": 3
   },
   "file_extension": ".py",
   "mimetype": "text/x-python",
   "name": "python",
   "nbconvert_exporter": "python",
   "pygments_lexer": "ipython3",
   "version": "3.8.8"
  }
 },
 "nbformat": 4,
 "nbformat_minor": 5
}
