{
 "cells": [
  {
   "cell_type": "markdown",
   "id": "5e18af41",
   "metadata": {},
   "source": [
    "### How to open a .nii file"
   ]
  },
  {
   "cell_type": "markdown",
   "id": "269400c9",
   "metadata": {},
   "source": [
    "## https://nipy.org/nibabel/installation.html"
   ]
  },
  {
   "cell_type": "markdown",
   "id": "a936b00e",
   "metadata": {},
   "source": [
    "## https://nipy.org/nibabel/gettingstarted.html"
   ]
  },
  {
   "cell_type": "code",
   "execution_count": 7,
   "id": "76048569",
   "metadata": {},
   "outputs": [],
   "source": [
    "#conda install -c conda-forge nibabel\n",
    "import nibabel as nib\n",
    "import os\n",
    "import numpy as np"
   ]
  },
  {
   "cell_type": "code",
   "execution_count": 4,
   "id": "970712ef",
   "metadata": {},
   "outputs": [],
   "source": [
    "from nibabel.testing import data_path"
   ]
  },
  {
   "cell_type": "code",
   "execution_count": 5,
   "id": "c0d112df",
   "metadata": {},
   "outputs": [],
   "source": [
    "example_filename = os.path.join(data_path, 'example4d.nii.gz')"
   ]
  },
  {
   "cell_type": "code",
   "execution_count": 8,
   "id": "9323a7cc",
   "metadata": {},
   "outputs": [],
   "source": [
    "img = nib.load(example_filename)"
   ]
  },
  {
   "cell_type": "code",
   "execution_count": 9,
   "id": "041ab51b",
   "metadata": {},
   "outputs": [
    {
     "data": {
      "text/plain": [
       "(128, 96, 24, 2)"
      ]
     },
     "execution_count": 9,
     "metadata": {},
     "output_type": "execute_result"
    }
   ],
   "source": [
    "img.shape"
   ]
  },
  {
   "cell_type": "code",
   "execution_count": 10,
   "id": "bf94b6dd",
   "metadata": {},
   "outputs": [
    {
     "data": {
      "text/plain": [
       "True"
      ]
     },
     "execution_count": 10,
     "metadata": {},
     "output_type": "execute_result"
    }
   ],
   "source": [
    "img.get_data_dtype() == np.dtype(np.int16)"
   ]
  },
  {
   "cell_type": "code",
   "execution_count": 11,
   "id": "0bf825f3",
   "metadata": {},
   "outputs": [
    {
     "data": {
      "text/plain": [
       "(4, 4)"
      ]
     },
     "execution_count": 11,
     "metadata": {},
     "output_type": "execute_result"
    }
   ],
   "source": [
    "img.affine.shape"
   ]
  },
  {
   "cell_type": "code",
   "execution_count": 13,
   "id": "2bf9a551",
   "metadata": {},
   "outputs": [
    {
     "data": {
      "text/plain": [
       "(128, 96, 24, 2)"
      ]
     },
     "execution_count": 13,
     "metadata": {},
     "output_type": "execute_result"
    }
   ],
   "source": [
    "data = img.get_fdata()\n",
    "data.shape"
   ]
  },
  {
   "cell_type": "code",
   "execution_count": 14,
   "id": "dadffd07",
   "metadata": {},
   "outputs": [
    {
     "data": {
      "text/plain": [
       "numpy.ndarray"
      ]
     },
     "execution_count": 14,
     "metadata": {},
     "output_type": "execute_result"
    }
   ],
   "source": [
    "type(data)"
   ]
  },
  {
   "cell_type": "code",
   "execution_count": 15,
   "id": "663d4b56",
   "metadata": {},
   "outputs": [],
   "source": [
    "hdr = img.header"
   ]
  },
  {
   "cell_type": "code",
   "execution_count": 16,
   "id": "333d8828",
   "metadata": {},
   "outputs": [
    {
     "data": {
      "text/plain": [
       "('mm', 'sec')"
      ]
     },
     "execution_count": 16,
     "metadata": {},
     "output_type": "execute_result"
    }
   ],
   "source": [
    "hdr.get_xyzt_units()"
   ]
  }
 ],
 "metadata": {
  "kernelspec": {
   "display_name": "Python 3 (ipykernel)",
   "language": "python",
   "name": "python3"
  },
  "language_info": {
   "codemirror_mode": {
    "name": "ipython",
    "version": 3
   },
   "file_extension": ".py",
   "mimetype": "text/x-python",
   "name": "python",
   "nbconvert_exporter": "python",
   "pygments_lexer": "ipython3",
   "version": "3.8.8"
  }
 },
 "nbformat": 4,
 "nbformat_minor": 5
}
