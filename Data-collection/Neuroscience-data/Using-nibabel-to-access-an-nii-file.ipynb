{
 "cells": [
  {
   "cell_type": "markdown",
   "id": "6d4b8aa5",
   "metadata": {},
   "source": [
    "# Unit 3.5.2 - Capstone Submission - Collect Data, Part I"
   ]
  },
  {
   "cell_type": "markdown",
   "id": "68284041",
   "metadata": {},
   "source": [
    "## David Schonberger, 12/21/2021"
   ]
  },
  {
   "cell_type": "markdown",
   "id": "03b8532c",
   "metadata": {},
   "source": [
    "### Dataset 1: See 'Applications of Graph Theory and ML in Neuroscience' (https://docs.google.com/document/d/1MsBeSa2sujr_A1eT3QPI7kjxqXY9FjGO2xeVg_gJLJY/edit?usp=sharing) "
   ]
  },
  {
   "cell_type": "markdown",
   "id": "f6ffb582",
   "metadata": {},
   "source": [
    "#### I downloaded the first portion of the LMU_2 dataset (http://fcon_1000.projects.nitrc.org/indi/CoRR/html/lmu_2.html), namely LMU_2_0025362_0025389. "
   ]
  },
  {
   "cell_type": "markdown",
   "id": "054787b5",
   "metadata": {},
   "source": [
    "#### This contains fMRI data for subjects 0025362 through 0025389 and is gzipped tarball approximately 2.6 GB in size. "
   ]
  },
  {
   "cell_type": "markdown",
   "id": "36354b9c",
   "metadata": {},
   "source": [
    "#### I unzipped and untarred the data for a single subject, 0026362 via the 'tar -xvf' and 'tar -xf' Unix commands. This produced a directory structure containing five .nii files with a total size of about 170 MB. (See https://radiopaedia.org/articles/nifti-file-format?lang=us for more information about the NIfTI file format used in Neuroimaging.) "
   ]
  },
  {
   "cell_type": "markdown",
   "id": "f3746043",
   "metadata": {},
   "source": [
    "#### I installed Git LFS on my laptop and followed the instructions at https://git-lfs.github.com/ to track and commit the 170 MB of .nii files to a LFS server."
   ]
  },
  {
   "cell_type": "markdown",
   "id": "5e18af41",
   "metadata": {},
   "source": [
    "## How to access a .nii file: (see https://nipy.org/nibabel/installation.html, https://nipy.org/nibabel/gettingstarted.html, https://nipy.org/nibabel/api.html#api, and https://nipy.org/nibabel/manual.html)"
   ]
  },
  {
   "cell_type": "code",
   "execution_count": 1,
   "id": "76048569",
   "metadata": {},
   "outputs": [],
   "source": [
    "#conda install -c conda-forge nibabel\n",
    "import nibabel as nib\n",
    "import os\n",
    "import numpy as np\n",
    "from nibabel.testing import data_path"
   ]
  },
  {
   "cell_type": "markdown",
   "id": "bc4a7567",
   "metadata": {},
   "source": [
    "#### First, load a sample .nii file included in the nibabel package"
   ]
  },
  {
   "cell_type": "code",
   "execution_count": 42,
   "id": "c0d112df",
   "metadata": {},
   "outputs": [],
   "source": [
    "example_filename = os.path.join(data_path, 'example4d.nii.gz')"
   ]
  },
  {
   "cell_type": "code",
   "execution_count": 43,
   "id": "9323a7cc",
   "metadata": {},
   "outputs": [],
   "source": [
    "img = nib.load(example_filename)"
   ]
  },
  {
   "cell_type": "code",
   "execution_count": 44,
   "id": "041ab51b",
   "metadata": {},
   "outputs": [
    {
     "data": {
      "text/plain": [
       "(128, 96, 24, 2)"
      ]
     },
     "execution_count": 44,
     "metadata": {},
     "output_type": "execute_result"
    }
   ],
   "source": [
    "img.shape"
   ]
  },
  {
   "cell_type": "code",
   "execution_count": 45,
   "id": "bf94b6dd",
   "metadata": {},
   "outputs": [
    {
     "data": {
      "text/plain": [
       "True"
      ]
     },
     "execution_count": 45,
     "metadata": {},
     "output_type": "execute_result"
    }
   ],
   "source": [
    "img.get_data_dtype() == np.dtype(np.int16)"
   ]
  },
  {
   "cell_type": "code",
   "execution_count": 46,
   "id": "0bf825f3",
   "metadata": {},
   "outputs": [
    {
     "data": {
      "text/plain": [
       "array([[-2.00000000e+00,  6.71471565e-19,  9.08102451e-18,\n",
       "         1.17855103e+02],\n",
       "       [-6.71471565e-19,  1.97371149e+00, -3.55528235e-01,\n",
       "        -3.57229424e+01],\n",
       "       [ 8.25548089e-18,  3.23207617e-01,  2.17108178e+00,\n",
       "        -7.24879837e+00],\n",
       "       [ 0.00000000e+00,  0.00000000e+00,  0.00000000e+00,\n",
       "         1.00000000e+00]])"
      ]
     },
     "execution_count": 46,
     "metadata": {},
     "output_type": "execute_result"
    }
   ],
   "source": [
    "img.affine"
   ]
  },
  {
   "cell_type": "code",
   "execution_count": 47,
   "id": "c59ad238",
   "metadata": {},
   "outputs": [
    {
     "data": {
      "text/plain": [
       "(4, 4)"
      ]
     },
     "execution_count": 47,
     "metadata": {},
     "output_type": "execute_result"
    }
   ],
   "source": [
    "img.affine.shape"
   ]
  },
  {
   "cell_type": "code",
   "execution_count": 48,
   "id": "f3fb699e",
   "metadata": {},
   "outputs": [
    {
     "name": "stdout",
     "output_type": "stream",
     "text": [
      "<class 'nibabel.nifti1.Nifti1Header'> object, endian='<'\n",
      "sizeof_hdr      : 348\n",
      "data_type       : b''\n",
      "db_name         : b''\n",
      "extents         : 0\n",
      "session_error   : 0\n",
      "regular         : b'r'\n",
      "dim_info        : 57\n",
      "dim             : [  4 128  96  24   2   1   1   1]\n",
      "intent_p1       : 0.0\n",
      "intent_p2       : 0.0\n",
      "intent_p3       : 0.0\n",
      "intent_code     : none\n",
      "datatype        : int16\n",
      "bitpix          : 16\n",
      "slice_start     : 0\n",
      "pixdim          : [-1.000000e+00  2.000000e+00  2.000000e+00  2.199999e+00  2.000000e+03\n",
      "  1.000000e+00  1.000000e+00  1.000000e+00]\n",
      "vox_offset      : 0.0\n",
      "scl_slope       : nan\n",
      "scl_inter       : nan\n",
      "slice_end       : 23\n",
      "slice_code      : unknown\n",
      "xyzt_units      : 10\n",
      "cal_max         : 1162.0\n",
      "cal_min         : 0.0\n",
      "slice_duration  : 0.0\n",
      "toffset         : 0.0\n",
      "glmax           : 0\n",
      "glmin           : 0\n",
      "descrip         : b'FSL3.3\\x00 v2.25 NIfTI-1 Single file format'\n",
      "aux_file        : b''\n",
      "qform_code      : scanner\n",
      "sform_code      : scanner\n",
      "quatern_b       : -1.9451068e-26\n",
      "quatern_c       : -0.9967085\n",
      "quatern_d       : -0.08106874\n",
      "qoffset_x       : 117.8551\n",
      "qoffset_y       : -35.722942\n",
      "qoffset_z       : -7.2487984\n",
      "srow_x          : [-2.0000000e+00  6.7147157e-19  9.0810245e-18  1.1785510e+02]\n",
      "srow_y          : [-6.7147157e-19  1.9737115e+00 -3.5552824e-01 -3.5722942e+01]\n",
      "srow_z          : [ 8.2554809e-18  3.2320762e-01  2.1710818e+00 -7.2487984e+00]\n",
      "intent_name     : b''\n",
      "magic           : b'n+1'\n"
     ]
    }
   ],
   "source": [
    "header = img.header\n",
    "print(header)"
   ]
  },
  {
   "cell_type": "code",
   "execution_count": 49,
   "id": "db88be42",
   "metadata": {},
   "outputs": [
    {
     "name": "stdout",
     "output_type": "stream",
     "text": [
      "(128, 96, 24, 2)\n"
     ]
    }
   ],
   "source": [
    "print(header.get_data_shape())"
   ]
  },
  {
   "cell_type": "code",
   "execution_count": 50,
   "id": "76c5181a",
   "metadata": {},
   "outputs": [
    {
     "name": "stdout",
     "output_type": "stream",
     "text": [
      "int16\n"
     ]
    }
   ],
   "source": [
    "print(header.get_data_dtype())"
   ]
  },
  {
   "cell_type": "code",
   "execution_count": 51,
   "id": "3a17f0c1",
   "metadata": {},
   "outputs": [
    {
     "name": "stdout",
     "output_type": "stream",
     "text": [
      "(2.0, 2.0, 2.199999, 2000.0)\n"
     ]
    }
   ],
   "source": [
    "print(header.get_zooms())"
   ]
  },
  {
   "cell_type": "markdown",
   "id": "a7ba8535",
   "metadata": {},
   "source": [
    "#### Now, load a .nii file from the LMU_2 dataset"
   ]
  },
  {
   "cell_type": "code",
   "execution_count": 52,
   "id": "b09e3129",
   "metadata": {},
   "outputs": [
    {
     "name": "stdout",
     "output_type": "stream",
     "text": [
      "C:\\Users\\david\\Documents\\ML\\gitworkspace\\UCSD-MLE-Bootcamp-Capstone-Project\\Data-collection\\Neuroscience-data\\0025362\\session_1\\anat_1\\anat-nii\\anat.nii\n"
     ]
    }
   ],
   "source": [
    "base_path = os.getcwd()\n",
    "file_path = r'0025362\\session_1\\anat_1\\anat-nii\\anat.nii'\n",
    "full_file_path = os.path.join(base_path, file_path)\n",
    "print(full_file_path)"
   ]
  },
  {
   "cell_type": "code",
   "execution_count": 53,
   "id": "765356fe",
   "metadata": {},
   "outputs": [],
   "source": [
    "img = nib.load(full_file_path)"
   ]
  },
  {
   "cell_type": "code",
   "execution_count": 54,
   "id": "cd1d7d13",
   "metadata": {},
   "outputs": [
    {
     "data": {
      "text/plain": [
       "(160, 240, 256)"
      ]
     },
     "execution_count": 54,
     "metadata": {},
     "output_type": "execute_result"
    }
   ],
   "source": [
    "img.shape"
   ]
  },
  {
   "cell_type": "code",
   "execution_count": 55,
   "id": "fc57c695",
   "metadata": {},
   "outputs": [
    {
     "data": {
      "text/plain": [
       "array([[  -0.99990082,    0.        ,    0.        ,   81.51811981],\n",
       "       [   0.        ,    1.        ,    0.        , -115.28813934],\n",
       "       [   0.        ,    0.        ,    1.        , -138.14389038],\n",
       "       [   0.        ,    0.        ,    0.        ,    1.        ]])"
      ]
     },
     "execution_count": 55,
     "metadata": {},
     "output_type": "execute_result"
    }
   ],
   "source": [
    "img.affine"
   ]
  },
  {
   "cell_type": "code",
   "execution_count": 56,
   "id": "6348e09c",
   "metadata": {},
   "outputs": [
    {
     "data": {
      "text/plain": [
       "(4, 4)"
      ]
     },
     "execution_count": 56,
     "metadata": {},
     "output_type": "execute_result"
    }
   ],
   "source": [
    "img.affine.shape"
   ]
  },
  {
   "cell_type": "code",
   "execution_count": 57,
   "id": "ec628c3e",
   "metadata": {},
   "outputs": [
    {
     "name": "stdout",
     "output_type": "stream",
     "text": [
      "<class 'nibabel.nifti1.Nifti1Header'> object, endian='<'\n",
      "sizeof_hdr      : 348\n",
      "data_type       : b''\n",
      "db_name         : b''\n",
      "extents         : 0\n",
      "session_error   : 0\n",
      "regular         : b'r'\n",
      "dim_info        : 0\n",
      "dim             : [  3 160 240 256   1   1   1   1]\n",
      "intent_p1       : 0.0\n",
      "intent_p2       : 0.0\n",
      "intent_p3       : 0.0\n",
      "intent_code     : none\n",
      "datatype        : float32\n",
      "bitpix          : 32\n",
      "slice_start     : 0\n",
      "pixdim          : [-1.         0.9999008  1.         1.         0.         0.\n",
      "  0.         0.       ]\n",
      "vox_offset      : 0.0\n",
      "scl_slope       : nan\n",
      "scl_inter       : nan\n",
      "slice_end       : 0\n",
      "slice_code      : unknown\n",
      "xyzt_units      : 10\n",
      "cal_max         : 0.0\n",
      "cal_min         : 0.0\n",
      "slice_duration  : 0.0\n",
      "toffset         : 0.0\n",
      "glmax           : 0\n",
      "glmin           : 0\n",
      "descrip         : b'FSL5.0'\n",
      "aux_file        : b''\n",
      "qform_code      : scanner\n",
      "sform_code      : scanner\n",
      "quatern_b       : 0.0\n",
      "quatern_c       : 1.0\n",
      "quatern_d       : 0.0\n",
      "qoffset_x       : 81.51812\n",
      "qoffset_y       : -115.28814\n",
      "qoffset_z       : -138.14389\n",
      "srow_x          : [-0.9999008  0.         0.        81.51812  ]\n",
      "srow_y          : [   0.         1.         0.      -115.28814]\n",
      "srow_z          : [   0.         0.         1.      -138.14389]\n",
      "intent_name     : b''\n",
      "magic           : b'n+1'\n"
     ]
    }
   ],
   "source": [
    "header = img.header\n",
    "print(header)"
   ]
  },
  {
   "cell_type": "code",
   "execution_count": 58,
   "id": "d2cd5ff0",
   "metadata": {},
   "outputs": [
    {
     "name": "stdout",
     "output_type": "stream",
     "text": [
      "(160, 240, 256)\n"
     ]
    }
   ],
   "source": [
    "print(header.get_data_shape())"
   ]
  },
  {
   "cell_type": "code",
   "execution_count": 59,
   "id": "70645ecf",
   "metadata": {},
   "outputs": [
    {
     "name": "stdout",
     "output_type": "stream",
     "text": [
      "float32\n"
     ]
    }
   ],
   "source": [
    "print(header.get_data_dtype())"
   ]
  },
  {
   "cell_type": "code",
   "execution_count": 60,
   "id": "dda75152",
   "metadata": {},
   "outputs": [
    {
     "name": "stdout",
     "output_type": "stream",
     "text": [
      "(0.9999008, 1.0, 1.0)\n"
     ]
    }
   ],
   "source": [
    "print(header.get_zooms())"
   ]
  }
 ],
 "metadata": {
  "kernelspec": {
   "display_name": "Python 3 (ipykernel)",
   "language": "python",
   "name": "python3"
  },
  "language_info": {
   "codemirror_mode": {
    "name": "ipython",
    "version": 3
   },
   "file_extension": ".py",
   "mimetype": "text/x-python",
   "name": "python",
   "nbconvert_exporter": "python",
   "pygments_lexer": "ipython3",
   "version": "3.8.8"
  }
 },
 "nbformat": 4,
 "nbformat_minor": 5
}
