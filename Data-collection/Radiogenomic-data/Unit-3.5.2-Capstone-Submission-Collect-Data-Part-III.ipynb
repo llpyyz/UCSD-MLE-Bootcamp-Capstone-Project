{
 "cells": [
  {
   "cell_type": "markdown",
   "id": "da1bf263",
   "metadata": {},
   "source": [
    "# Unit 3.5.2 - Capstone Submission - Collect Data, Part III: Glioblastoma Radiogenomic data"
   ]
  },
  {
   "cell_type": "markdown",
   "id": "5f1d7ca4",
   "metadata": {},
   "source": [
    "## David Schonberger, 12/21/2021"
   ]
  },
  {
   "cell_type": "markdown",
   "id": "29c91f8c",
   "metadata": {},
   "source": [
    "### Dataset 3 -> See 'Idea 5: Apply ML/DL to Radiogenomics' (https://docs.google.com/document/d/1MsBeSa2sujr_A1eT3QPI7kjxqXY9FjGO2xeVg_gJLJY/edit?usp=sharing) "
   ]
  },
  {
   "cell_type": "markdown",
   "id": "2288050b",
   "metadata": {},
   "source": [
    "### As the Google doc indicates, the dataset is part of a recent Kaggle competition. (See https://www.kaggle.com/c/rsna-miccai-brain-tumor-radiogenomic-classification/overview)"
   ]
  },
  {
   "cell_type": "markdown",
   "id": "4f9f68bf",
   "metadata": {},
   "source": [
    "### I attempted to use the Kaggle cli tool to download the dataset via the command: kaggle competitions download -c rsna-miccai-brain-tumor-radiogenomic-classification. But this failed, so I manually downloaded the data instead. The compressed dataset was about 12.7 GB but expanded to over 136 GB upon unzipping it."
   ]
  },
  {
   "cell_type": "code",
   "execution_count": null,
   "id": "f5d6e66e",
   "metadata": {},
   "outputs": [],
   "source": []
  },
  {
   "cell_type": "code",
   "execution_count": null,
   "id": "ea508003",
   "metadata": {},
   "outputs": [],
   "source": []
  },
  {
   "cell_type": "code",
   "execution_count": null,
   "id": "e60d109a",
   "metadata": {},
   "outputs": [],
   "source": []
  },
  {
   "cell_type": "code",
   "execution_count": null,
   "id": "1298b14d",
   "metadata": {},
   "outputs": [],
   "source": []
  },
  {
   "cell_type": "code",
   "execution_count": null,
   "id": "fee019db",
   "metadata": {},
   "outputs": [],
   "source": []
  },
  {
   "cell_type": "code",
   "execution_count": null,
   "id": "33c6c78d",
   "metadata": {},
   "outputs": [],
   "source": []
  },
  {
   "cell_type": "code",
   "execution_count": null,
   "id": "da15b920",
   "metadata": {},
   "outputs": [],
   "source": []
  },
  {
   "cell_type": "code",
   "execution_count": null,
   "id": "d9d15a03",
   "metadata": {},
   "outputs": [],
   "source": []
  },
  {
   "cell_type": "code",
   "execution_count": null,
   "id": "2fb7a1e9",
   "metadata": {},
   "outputs": [],
   "source": []
  },
  {
   "cell_type": "code",
   "execution_count": null,
   "id": "c216b9ad",
   "metadata": {},
   "outputs": [],
   "source": []
  },
  {
   "cell_type": "code",
   "execution_count": null,
   "id": "7dbe3d79",
   "metadata": {},
   "outputs": [],
   "source": []
  },
  {
   "cell_type": "code",
   "execution_count": null,
   "id": "45235069",
   "metadata": {},
   "outputs": [],
   "source": []
  },
  {
   "cell_type": "code",
   "execution_count": null,
   "id": "3e280836",
   "metadata": {},
   "outputs": [],
   "source": []
  },
  {
   "cell_type": "code",
   "execution_count": null,
   "id": "2768c5d1",
   "metadata": {},
   "outputs": [],
   "source": []
  },
  {
   "cell_type": "code",
   "execution_count": null,
   "id": "235de124",
   "metadata": {},
   "outputs": [],
   "source": []
  },
  {
   "cell_type": "code",
   "execution_count": null,
   "id": "a18aec54",
   "metadata": {},
   "outputs": [],
   "source": []
  }
 ],
 "metadata": {
  "kernelspec": {
   "display_name": "Python 3 (ipykernel)",
   "language": "python",
   "name": "python3"
  },
  "language_info": {
   "codemirror_mode": {
    "name": "ipython",
    "version": 3
   },
   "file_extension": ".py",
   "mimetype": "text/x-python",
   "name": "python",
   "nbconvert_exporter": "python",
   "pygments_lexer": "ipython3",
   "version": "3.8.8"
  }
 },
 "nbformat": 4,
 "nbformat_minor": 5
}
