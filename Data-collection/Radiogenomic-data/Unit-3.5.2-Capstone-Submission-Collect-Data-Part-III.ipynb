{
 "cells": [
  {
   "cell_type": "markdown",
   "id": "26b464cd",
   "metadata": {},
   "source": [
    "# Unit 3.5.2 - Capstone Submission - Collect Data, Part III: Glioblastoma Radiogenomic data"
   ]
  },
  {
   "cell_type": "markdown",
   "id": "9d6ced8b",
   "metadata": {},
   "source": [
    "## David Schonberger, 12/21/2021"
   ]
  },
  {
   "cell_type": "markdown",
   "id": "b7d43fdf",
   "metadata": {},
   "source": [
    "### Dataset 3 -> See 'Idea 5: Apply ML/DL to Radiogenomics' (https://docs.google.com/document/d/1MsBeSa2sujr_A1eT3QPI7kjxqXY9FjGO2xeVg_gJLJY/edit?usp=sharing) "
   ]
  },
  {
   "cell_type": "markdown",
   "id": "b18ffced",
   "metadata": {},
   "source": [
    "### As the Google doc indicates, the dataset is part of a recent Kaggle competition. (See https://www.kaggle.com/c/rsna-miccai-brain-tumor-radiogenomic-classification/overview)"
   ]
  },
  {
   "cell_type": "markdown",
   "id": "a87b4810",
   "metadata": {},
   "source": [
    "### I attempted to use the Kaggle cli tool to download the dataset via the command: 'kaggle competitions download -c rsna-miccai-brain-tumor-radiogenomic-classification'. But this failed, so I manually downloaded the data instead. The compressed dataset was about 12.7 GB but expanded to over 136 GB upon unzipping it."
   ]
  },
  {
   "cell_type": "code",
   "execution_count": 29,
   "id": "4868098c",
   "metadata": {},
   "outputs": [],
   "source": [
    "import pydicom\n",
    "import os\n",
    "import numpy as np \n",
    "import cv2"
   ]
  },
  {
   "cell_type": "code",
   "execution_count": 48,
   "id": "635d4381",
   "metadata": {},
   "outputs": [
    {
     "name": "stdout",
     "output_type": "stream",
     "text": [
      "Dataset.file_meta -------------------------------\n",
      "(0002, 0010) Transfer Syntax UID                 UI: Implicit VR Little Endian\n",
      "-------------------------------------------------\n",
      "(0008, 0005) Specific Character Set              CS: 'ISO_IR 100'\n",
      "(0008, 0008) Image Type                          CS: ['DERIVED', 'SECONDARY']\n",
      "(0008, 0016) SOP Class UID                       UI: MR Image Storage\n",
      "(0008, 0018) SOP Instance UID                    UI: 1.2.826.0.1.3680043.8.498.11869668259266793273031321296139103824\n",
      "(0008, 0050) Accession Number                    SH: '00013'\n",
      "(0008, 0060) Modality                            CS: 'MR'\n",
      "(0008, 103e) Series Description                  LO: 'FLAIR'\n",
      "(0010, 0010) Patient's Name                      PN: '00013'\n",
      "(0010, 0020) Patient ID                          LO: '00013'\n",
      "(0018, 0023) MR Acquisition Type                 CS: '3D'\n",
      "(0018, 0050) Slice Thickness                     DS: '2.0'\n",
      "(0018, 0081) Echo Time                           DS: None\n",
      "(0018, 0082) Inversion Time                      DS: None\n",
      "(0018, 0083) Number of Averages                  DS: '1.0'\n",
      "(0018, 0084) Imaging Frequency                   DS: '127.742952'\n",
      "(0018, 0085) Imaged Nucleus                      SH: '1H'\n",
      "(0018, 0086) Echo Number(s)                      IS: '1'\n",
      "(0018, 0087) Magnetic Field Strength             DS: '3.0'\n",
      "(0018, 0088) Spacing Between Slices              DS: '1.0'\n",
      "(0018, 0091) Echo Train Length                   IS: '172'\n",
      "(0018, 0093) Percent Sampling                    DS: '100.0'\n",
      "(0018, 0094) Percent Phase Field of View         DS: '80.0'\n",
      "(0018, 0095) Pixel Bandwidth                     DS: '139.492'\n",
      "(0018, 1094) Trigger Window                      IS: '0'\n",
      "(0018, 1100) Reconstruction Diameter             DS: '256.0'\n",
      "(0018, 1310) Acquisition Matrix                  US: [0, 256, 256, 0]\n",
      "(0018, 1314) Flip Angle                          DS: '90.0'\n",
      "(0018, 1316) SAR                                 DS: '0.952774'\n",
      "(0018, 5100) Patient Position                    CS: 'HFS'\n",
      "(0020, 000d) Study Instance UID                  UI: 1.2.826.0.1.3680043.8.498.11740099288117488292577762790201205083\n",
      "(0020, 000e) Series Instance UID                 UI: 1.2.826.0.1.3680043.8.498.88701362110888683289973319007740803818\n",
      "(0020, 0011) Series Number                       IS: '401'\n",
      "(0020, 0013) Instance Number                     IS: '411'\n",
      "(0020, 0032) Image Position (Patient)            DS: [75.71598816, -175.28321568, 105.86288376]\n",
      "(0020, 0037) Image Orientation (Patient)         DS: [0.04536727, 0.98801513, 0.14753953, -0.01276748, 0.148253, -0.98886705]\n",
      "(0020, 0060) Laterality                          CS: ''\n",
      "(0020, 1040) Position Reference Indicator        LO: ''\n",
      "(0020, 1041) Slice Location                      DS: '-79.88061155'\n",
      "(0028, 0002) Samples per Pixel                   US: 1\n",
      "(0028, 0004) Photometric Interpretation          CS: 'MONOCHROME2'\n",
      "(0028, 0010) Rows                                US: 512\n",
      "(0028, 0011) Columns                             US: 512\n",
      "(0028, 0030) Pixel Spacing                       DS: [0.5, 0.5]\n",
      "(0028, 0100) Bits Allocated                      US: 16\n",
      "(0028, 0101) Bits Stored                         US: 16\n",
      "(0028, 0102) High Bit                            US: 15\n",
      "(0028, 0103) Pixel Representation                US: 1\n",
      "(0028, 1050) Window Center                       DS: '410.0'\n",
      "(0028, 1051) Window Width                        DS: '820.0'\n",
      "(0028, 1052) Rescale Intercept                   DS: '0.0'\n",
      "(0028, 1053) Rescale Slope                       DS: '1.0'\n",
      "(0028, 1054) Rescale Type                        LO: 'US'\n",
      "(7fe0, 0010) Pixel Data                          OW: Array of 524288 elements\n"
     ]
    }
   ],
   "source": [
    "#### Using https://pydicom.github.io/pydicom/stable/tutorials/dataset_basics.html\n",
    "base_path = os.getcwd()\n",
    "file_path = '00013\\FLAIR\\Image-439.dcm'\n",
    "path = os.path.join(base_path, file_path)\n",
    "mri_image = pydicom.dcmread(path)\n",
    "print(mri_image)"
   ]
  },
  {
   "cell_type": "code",
   "execution_count": 49,
   "id": "5ca57bc5",
   "metadata": {},
   "outputs": [],
   "source": [
    "cv2.imshow(f'image: {file_path}',mri_image.pixel_array)  \n",
    "cv2.waitKey(0)\n",
    "cv2.destroyAllWindows()"
   ]
  },
  {
   "cell_type": "markdown",
   "id": "85f9cc40",
   "metadata": {},
   "source": [
    "# Note, the above code runs. However the image that displays is completely grey. I tried several images from the FLAIR folder. Same results."
   ]
  },
  {
   "cell_type": "code",
   "execution_count": 52,
   "id": "ffee70cf",
   "metadata": {},
   "outputs": [
    {
     "name": "stdout",
     "output_type": "stream",
     "text": [
      "Dataset.file_meta -------------------------------\n",
      "(0002, 0010) Transfer Syntax UID                 UI: Implicit VR Little Endian\n",
      "-------------------------------------------------\n",
      "(0008, 0005) Specific Character Set              CS: 'ISO_IR 100'\n",
      "(0008, 0008) Image Type                          CS: ['DERIVED', 'SECONDARY']\n",
      "(0008, 0016) SOP Class UID                       UI: MR Image Storage\n",
      "(0008, 0018) SOP Instance UID                    UI: 1.2.826.0.1.3680043.8.498.92033800745224840860544117273406018632\n",
      "(0008, 0050) Accession Number                    SH: '00013'\n",
      "(0008, 0060) Modality                            CS: 'MR'\n",
      "(0008, 103e) Series Description                  LO: 'T1w'\n",
      "(0010, 0010) Patient's Name                      PN: '00013'\n",
      "(0010, 0020) Patient ID                          LO: '00013'\n",
      "(0018, 0023) MR Acquisition Type                 CS: '2D'\n",
      "(0018, 0050) Slice Thickness                     DS: '5.0'\n",
      "(0018, 0081) Echo Time                           DS: None\n",
      "(0018, 0083) Number of Averages                  DS: '1.0'\n",
      "(0018, 0084) Imaging Frequency                   DS: '127.742967'\n",
      "(0018, 0085) Imaged Nucleus                      SH: '1H'\n",
      "(0018, 0086) Echo Number(s)                      IS: '1'\n",
      "(0018, 0087) Magnetic Field Strength             DS: '3.0'\n",
      "(0018, 0088) Spacing Between Slices              DS: '1.0'\n",
      "(0018, 0091) Echo Train Length                   IS: '1'\n",
      "(0018, 0093) Percent Sampling                    DS: '100.0'\n",
      "(0018, 0094) Percent Phase Field of View         DS: '80.0'\n",
      "(0018, 0095) Pixel Bandwidth                     DS: '122.07'\n",
      "(0018, 1094) Trigger Window                      IS: '0'\n",
      "(0018, 1100) Reconstruction Diameter             DS: '240.0'\n",
      "(0018, 1310) Acquisition Matrix                  US: [0, 320, 224, 0]\n",
      "(0018, 1312) In-plane Phase Encoding Direction   CS: 'ROW'\n",
      "(0018, 1314) Flip Angle                          DS: '73.0'\n",
      "(0018, 1316) SAR                                 DS: '1.76116'\n",
      "(0018, 5100) Patient Position                    CS: 'HFS'\n",
      "(0020, 000d) Study Instance UID                  UI: 1.2.826.0.1.3680043.8.498.11740099288117488292577762790201205083\n",
      "(0020, 000e) Series Instance UID                 UI: 1.2.826.0.1.3680043.8.498.84185307029597839264916104765644468649\n",
      "(0020, 0011) Series Number                       IS: '9'\n",
      "(0020, 0013) Instance Number                     IS: '15'\n",
      "(0020, 0032) Image Position (Patient)            DS: [-119.194, -139.499, -2.92803]\n",
      "(0020, 0037) Image Orientation (Patient)         DS: [0.999391, -0, -0.0348921, 0.00473461, 0.990751, 0.13561]\n",
      "(0020, 0060) Laterality                          CS: ''\n",
      "(0020, 1040) Position Reference Indicator        LO: ''\n",
      "(0020, 1041) Slice Location                      DS: '9.134503365'\n",
      "(0020, 9057) In-Stack Position Number            UL: 15\n",
      "(0028, 0002) Samples per Pixel                   US: 1\n",
      "(0028, 0004) Photometric Interpretation          CS: 'MONOCHROME2'\n",
      "(0028, 0010) Rows                                US: 512\n",
      "(0028, 0011) Columns                             US: 512\n",
      "(0028, 0030) Pixel Spacing                       DS: [0.468800008296967, 0.468800008296967]\n",
      "(0028, 0100) Bits Allocated                      US: 16\n",
      "(0028, 0101) Bits Stored                         US: 16\n",
      "(0028, 0102) High Bit                            US: 15\n",
      "(0028, 0103) Pixel Representation                US: 1\n",
      "(0028, 1050) Window Center                       DS: '1953.0'\n",
      "(0028, 1051) Window Width                        DS: '3906.0'\n",
      "(0028, 1052) Rescale Intercept                   DS: '0.0'\n",
      "(0028, 1053) Rescale Slope                       DS: '1.0'\n",
      "(0028, 1054) Rescale Type                        LO: 'US'\n",
      "(7fe0, 0010) Pixel Data                          OW: Array of 524288 elements\n"
     ]
    }
   ],
   "source": [
    "file_path2 = '00013\\T1w\\Image-15.dcm'\n",
    "path = os.path.join(base_path, file_path2)\n",
    "mri_image2 = pydicom.dcmread(path)\n",
    "print(mri_image2)"
   ]
  },
  {
   "cell_type": "code",
   "execution_count": 53,
   "id": "480b0cd7",
   "metadata": {},
   "outputs": [],
   "source": [
    "cv2.imshow(f'image: {file_path2}',mri_image2.pixel_array)  \n",
    "cv2.waitKey(0)\n",
    "cv2.destroyAllWindows()"
   ]
  },
  {
   "cell_type": "markdown",
   "id": "69adfbbe",
   "metadata": {},
   "source": [
    "# After switching to another folder, T1w, the image display is still completely grey. I tried several images, same results."
   ]
  },
  {
   "cell_type": "markdown",
   "id": "5bb0897d",
   "metadata": {},
   "source": [
    "## What follows is an attempt to display other DICOM images, downloaded from the Cancer Imaging Archives (https://www.cancerimagingarchive.net/)"
   ]
  },
  {
   "cell_type": "code",
   "execution_count": 65,
   "id": "28c31d23",
   "metadata": {},
   "outputs": [
    {
     "name": "stdout",
     "output_type": "stream",
     "text": [
      "Dataset.file_meta -------------------------------\n",
      "(0002, 0000) File Meta Information Group Length  UL: 206\n",
      "(0002, 0001) File Meta Information Version       OB: b'\\x00\\x01'\n",
      "(0002, 0002) Media Storage SOP Class UID         UI: MR Image Storage\n",
      "(0002, 0003) Media Storage SOP Instance UID      UI: 1.3.6.1.4.1.14519.5.2.1.7009.2405.340592342021531538737305032606\n",
      "(0002, 0010) Transfer Syntax UID                 UI: Explicit VR Little Endian\n",
      "(0002, 0012) Implementation Class UID            UI: 1.3.6.1.4.1.22213.1.143\n",
      "(0002, 0013) Implementation Version Name         SH: '0.5'\n",
      "(0002, 0016) Source Application Entity Title     AE: 'POSDA'\n",
      "-------------------------------------------------\n",
      "(0008, 0005) Specific Character Set              CS: 'ISO_IR 100'\n",
      "(0008, 0008) Image Type                          CS: ['ORIGINAL', 'PRIMARY', 'M_SE', 'M', 'SE']\n",
      "(0008, 0012) Instance Creation Date              DA: '19591231'\n",
      "(0008, 0013) Instance Creation Time              TM: '123736'\n",
      "(0008, 0014) Instance Creator UID                UI: 1.3.6.1.4.1.14519.5.2.1.7009.2405.253840422736616732115385475924\n",
      "(0008, 0016) SOP Class UID                       UI: MR Image Storage\n",
      "(0008, 0018) SOP Instance UID                    UI: 1.3.6.1.4.1.14519.5.2.1.7009.2405.340592342021531538737305032606\n",
      "(0008, 0020) Study Date                          DA: '19591231'\n",
      "(0008, 0021) Series Date                         DA: '19591231'\n",
      "(0008, 0022) Acquisition Date                    DA: '19591231'\n",
      "(0008, 0023) Content Date                        DA: '19591231'\n",
      "(0008, 0030) Study Time                          TM: '114007'\n",
      "(0008, 0031) Series Time                         TM: '115852.67000'\n",
      "(0008, 0032) Acquisition Time                    TM: '115852.67'\n",
      "(0008, 0033) Content Time                        TM: '115852.67'\n",
      "(0008, 0050) Accession Number                    SH: ''\n",
      "(0008, 0060) Modality                            CS: 'MR'\n",
      "(0008, 0070) Manufacturer                        LO: 'Philips Medical Systems'\n",
      "(0008, 0090) Referring Physician's Name          PN: ''\n",
      "(0008, 0100) Code Value                          SH: ''\n",
      "(0008, 0102) Coding Scheme Designator            SH: 'DCM'\n",
      "(0008, 0104) Code Meaning                        LO: ''\n",
      "(0008, 1030) Study Description                   LO: 'MRI ORBITS/FACE'\n",
      "(0008, 1032)  Procedure Code Sequence  1 item(s) ---- \n",
      "   (0008, 0100) Code Value                          SH: 'MROFN*-'\n",
      "   (0008, 0102) Coding Scheme Designator            SH: 'LOCAL'\n",
      "   (0008, 0104) Code Meaning                        LO: 'MRI ORBITS/FACE'\n",
      "   (0008, 010b) Context Group Extension Flag        CS: 'N'\n",
      "   ---------\n",
      "(0008, 103e) Series Description                  LO: 'T1W_SE'\n",
      "(0008, 1080) Admitting Diagnoses Description     LO: ''\n",
      "(0008, 1090) Manufacturer's Model Name           LO: 'Achieva'\n",
      "(0008, 1110)  Referenced Study Sequence  1 item(s) ---- \n",
      "   (0008, 1150) Referenced SOP Class UID            UI: Detached Study Management SOP Class\n",
      "   (0008, 1155) Referenced SOP Instance UID         UI: 1.3.6.1.4.1.14519.5.2.1.7009.2405.300928526576573638332131408188\n",
      "   ---------\n",
      "(0008, 1111)  Referenced Performed Procedure Step Sequence  1 item(s) ---- \n",
      "   (0008, 0012) Instance Creation Date              DA: '19591231'\n",
      "   (0008, 0013) Instance Creation Time              TM: '123735'\n",
      "   (0008, 0014) Instance Creator UID                UI: 1.3.6.1.4.1.14519.5.2.1.7009.2405.253840422736616732115385475924\n",
      "   (0008, 1150) Referenced SOP Class UID            UI: Modality Performed Procedure Step SOP Class\n",
      "   (0008, 1155) Referenced SOP Instance UID         UI: 1.3.6.1.4.1.14519.5.2.1.7009.2405.233037029657862502305485059659\n",
      "   (0020, 0013) Instance Number                     IS: '0'\n",
      "   (2005, 0014) Private Creator                     LO: 'Philips MR Imaging DD 005'\n",
      "   (2005, 1406) [Unknown]                           SS: 0\n",
      "   ---------\n",
      "(0008, 1140)  Referenced Image Sequence  3 item(s) ---- \n",
      "   (0008, 1150) Referenced SOP Class UID            UI: MR Image Storage\n",
      "   (0008, 1155) Referenced SOP Instance UID         UI: 1.3.6.1.4.1.14519.5.2.1.7009.2405.149005163627359699998969985457\n",
      "   ---------\n",
      "   (0008, 1150) Referenced SOP Class UID            UI: MR Image Storage\n",
      "   (0008, 1155) Referenced SOP Instance UID         UI: 1.3.6.1.4.1.14519.5.2.1.7009.2405.297502919334225740929849666112\n",
      "   ---------\n",
      "   (0008, 1150) Referenced SOP Class UID            UI: MR Image Storage\n",
      "   (0008, 1155) Referenced SOP Instance UID         UI: 1.3.6.1.4.1.14519.5.2.1.7009.2405.167280204751358489934672346571\n",
      "   ---------\n",
      "(0010, 0010) Patient's Name                      PN: 'ACRIN-HNSCC-FDG-PET-CT-010'\n",
      "(0010, 0020) Patient ID                          LO: 'ACRIN-HNSCC-FDG-PET-CT-010'\n",
      "(0010, 0030) Patient's Birth Date                DA: ''\n",
      "(0010, 0040) Patient's Sex                       CS: 'F'\n",
      "(0010, 1030) Patient's Weight                    DS: '64.0'\n",
      "(0010, 21c0) Pregnancy Status                    US: 4\n",
      "(0012, 0010) Clinical Trial Sponsor Name         LO: 'American_College_of_Radiology'\n",
      "(0012, 0020) Clinical Trial Protocol ID          LO: '6685'\n",
      "(0012, 0021) Clinical Trial Protocol Name        LO: 'FDG PET-CT H&N'\n",
      "(0012, 0030) Clinical Trial Site ID              LO: ''\n",
      "(0012, 0031) Clinical Trial Site Name            LO: ''\n",
      "(0012, 0040) Clinical Trial Subject ID           LO: '10'\n",
      "(0012, 0050) Clinical Trial Time Point ID        LO: '0'\n",
      "(0012, 0051) Clinical Trial Time Point Descripti ST: 'Days offset from diagnosis'\n",
      "(0012, 0062) Patient Identity Removed            CS: 'YES'\n",
      "(0012, 0063) De-identification Method            LO: 'Per DICOM PS 3.15 AnnexE. Details in 0012,0064'\n",
      "(0012, 0064)  De-identification Method Code Sequence  8 item(s) ---- \n",
      "   (0008, 0100) Code Value                          SH: '113100'\n",
      "   (0008, 0102) Coding Scheme Designator            SH: 'DCM'\n",
      "   (0008, 0104) Code Meaning                        LO: 'Basic Application Confidentiality Profile'\n",
      "   ---------\n",
      "   (0008, 0100) Code Value                          SH: '113101'\n",
      "   (0008, 0102) Coding Scheme Designator            SH: 'DCM'\n",
      "   (0008, 0104) Code Meaning                        LO: 'Clean Pixel Data Option'\n",
      "   ---------\n",
      "   (0008, 0100) Code Value                          SH: '113104'\n",
      "   (0008, 0102) Coding Scheme Designator            SH: 'DCM'\n",
      "   (0008, 0104) Code Meaning                        LO: 'Clean Structured Content Option'\n",
      "   ---------\n",
      "   (0008, 0100) Code Value                          SH: '113105'\n",
      "   (0008, 0102) Coding Scheme Designator            SH: 'DCM'\n",
      "   (0008, 0104) Code Meaning                        LO: 'Clean Descriptors Option'\n",
      "   ---------\n",
      "   (0008, 0100) Code Value                          SH: '113107'\n",
      "   (0008, 0102) Coding Scheme Designator            SH: 'DCM'\n",
      "   (0008, 0104) Code Meaning                        LO: 'Retain Longitudinal Temporal Information Modified Dates Option'\n",
      "   ---------\n",
      "   (0008, 0100) Code Value                          SH: '113108'\n",
      "   (0008, 0102) Coding Scheme Designator            SH: 'DCM'\n",
      "   (0008, 0104) Code Meaning                        LO: 'Retain Patient Characteristics Option'\n",
      "   ---------\n",
      "   (0008, 0100) Code Value                          SH: '113109'\n",
      "   (0008, 0102) Coding Scheme Designator            SH: 'DCM'\n",
      "   (0008, 0104) Code Meaning                        LO: 'Retain Device Identity Option'\n",
      "   ---------\n",
      "   (0008, 0100) Code Value                          SH: '113111'\n",
      "   (0008, 0102) Coding Scheme Designator            SH: 'DCM'\n",
      "   (0008, 0104) Code Meaning                        LO: 'Retain Safe Private Option'\n",
      "   ---------\n",
      "(0013, 0010) Private Creator                     LO: 'CTP'\n",
      "(0013, 1010) Private tag data                    LO: 'ACRIN-HNSCC-FDG-PET-CT'\n",
      "(0013, 1013) Private tag data                    LO: '70092405'\n",
      "(0018, 0015) Body Part Examined                  CS: 'NECK'\n",
      "(0018, 0020) Scanning Sequence                   CS: 'SE'\n",
      "(0018, 0021) Sequence Variant                    CS: 'SS'\n",
      "(0018, 0022) Scan Options                        CS: 'FC'\n",
      "(0018, 0023) MR Acquisition Type                 CS: '2D'\n",
      "(0018, 0024) Sequence Name                       SH: ''\n",
      "(0018, 0050) Slice Thickness                     DS: '4.0'\n",
      "(0018, 0080) Repetition Time                     DS: '500.0'\n",
      "(0018, 0081) Echo Time                           DS: '10.0'\n",
      "(0018, 0083) Number of Averages                  DS: '1.0'\n",
      "(0018, 0084) Imaging Frequency                   DS: '127.775608999999'\n",
      "(0018, 0085) Imaged Nucleus                      SH: '1H'\n",
      "(0018, 0086) Echo Number(s)                      IS: '1'\n",
      "(0018, 0087) Magnetic Field Strength             DS: '3.0'\n",
      "(0018, 0088) Spacing Between Slices              DS: '5.0'\n",
      "(0018, 0089) Number of Phase Encoding Steps      IS: '205'\n",
      "(0018, 0091) Echo Train Length                   IS: '1'\n",
      "(0018, 0093) Percent Sampling                    DS: '80.078125'\n",
      "(0018, 0094) Percent Phase Field of View         DS: '100.0'\n",
      "(0018, 0095) Pixel Bandwidth                     DS: '207.146560668945'\n",
      "(0018, 1020) Software Versions                   LO: ['2.6.1', '2.6.1.2']\n",
      "(0018, 1030) Protocol Name                       LO: 'T1W_SE'\n",
      "(0018, 1081) Low R-R Value                       IS: '0'\n",
      "(0018, 1082) High R-R Value                      IS: '0'\n",
      "(0018, 1083) Intervals Acquired                  IS: '0'\n",
      "(0018, 1084) Intervals Rejected                  IS: '0'\n",
      "(0018, 1088) Heart Rate                          IS: '0'\n",
      "(0018, 1100) Reconstruction Diameter             DS: '230.0'\n",
      "(0018, 1250) Receive Coil Name                   SH: 'SENSE-NV-16'\n",
      "(0018, 1251) Transmit Coil Name                  SH: 'B'\n",
      "(0018, 1310) Acquisition Matrix                  US: [0, 256, 205, 0]\n",
      "(0018, 1312) In-plane Phase Encoding Direction   CS: 'ROW'\n",
      "(0018, 1314) Flip Angle                          DS: '90.0'\n",
      "(0018, 1316) SAR                                 DS: '8.58069419860839'\n",
      "(0018, 1318) dB/dt                               DS: '12.4002019762924'\n",
      "(0018, 5100) Patient Position                    CS: 'HFS'\n",
      "(0020, 000d) Study Instance UID                  UI: 1.3.6.1.4.1.14519.5.2.1.7009.2405.300928526576573638332131408188\n",
      "(0020, 000e) Series Instance UID                 UI: 1.3.6.1.4.1.14519.5.2.1.7009.2405.148620409063607948967746468254\n",
      "(0020, 0010) Study ID                            SH: ''\n",
      "(0020, 0011) Series Number                       IS: '301'\n",
      "(0020, 0012) Acquisition Number                  IS: '3'\n",
      "(0020, 0013) Instance Number                     IS: '23'\n",
      "(0020, 0032) Image Position (Patient)            DS: [-60.354591244831, -117.76175539917, 110.088033729232]\n",
      "(0020, 0037) Image Orientation (Patient)         DS: [0.02578929625451, 0.99966543912887, -0.0019693104550, 0.04754208773374, -0.0031942191999, -0.9988641142845]\n",
      "(0020, 0052) Frame of Reference UID              UI: 1.3.6.1.4.1.14519.5.2.1.7009.2405.289277138099296652101833066678\n",
      "(0020, 0100) Temporal Position Identifier        IS: '1'\n",
      "(0020, 0105) Number of Temporal Positions        IS: '1'\n",
      "(0020, 1040) Position Reference Indicator        LO: ''\n",
      "(0020, 1041) Slice Location                      DS: '110.000000677869'\n",
      "(0028, 0002) Samples per Pixel                   US: 1\n",
      "(0028, 0004) Photometric Interpretation          CS: 'MONOCHROME2'\n",
      "(0028, 0010) Rows                                US: 512\n",
      "(0028, 0011) Columns                             US: 512\n",
      "(0028, 0030) Pixel Spacing                       DS: [0.44921875, 0.44921875]\n",
      "(0028, 0100) Bits Allocated                      US: 16\n",
      "(0028, 0101) Bits Stored                         US: 12\n",
      "(0028, 0102) High Bit                            US: 11\n",
      "(0028, 0103) Pixel Representation                US: 0\n",
      "(0028, 0303) Longitudinal Temporal Information M CS: 'MODIFIED'\n",
      "(0028, 1050) Window Center                       DS: '873.0'\n",
      "(0028, 1051) Window Width                        DS: '1518.0'\n",
      "(0028, 1052) Rescale Intercept                   DS: '0.0'\n",
      "(0028, 1053) Rescale Slope                       DS: '1.68278388278388'\n",
      "(0028, 1054) Rescale Type                        LO: 'normalized'\n",
      "(0028, 2110) Lossy Image Compression             CS: '00'\n",
      "(0032, 1060) Requested Procedure Description     LO: 'MRI ORBITS/FACE'\n",
      "(0032, 4000) Study Comments                      LT: 'MALIGNANT OROPHARYNGEAL NEOPLASM'\n",
      "(0040, 0244) Performed Procedure Step Start Date DA: '19591231'\n",
      "(0040, 0245) Performed Procedure Step Start Time TM: '114007'\n",
      "(0040, 0250) Performed Procedure Step End Date   DA: '19591231'\n",
      "(0040, 0251) Performed Procedure Step End Time   TM: '114007'\n",
      "(0040, 0254) Performed Procedure Step Descriptio LO: 'MRI ORBITS/FACE'\n",
      "(0040, 0260)  Performed Protocol Code Sequence  1 item(s) ---- \n",
      "   (0008, 0100) Code Value                          SH: 'MROFN*-'\n",
      "   (0008, 0102) Coding Scheme Designator            SH: 'LOCAL'\n",
      "   (0008, 0104) Code Meaning                        LO: 'MRI ORBITS/FACE'\n",
      "   (0008, 010b) Context Group Extension Flag        CS: 'N'\n",
      "   ---------\n",
      "(0040, 0280) Comments on the Performed Procedure ST: 'MALIGNANT OROPHARYNGEAL NEOPLASM'\n",
      "(0040, 0321)  Film Consumption Sequence  0 item(s) ---- \n",
      "(0073, 0010) Private Creator                     LO: 'STENTOR'\n",
      "(2001, 0010) Private Creator                     LO: 'Philips Imaging DD 001'\n",
      "(2001, 1001) [Chemical Shift]                    FL: 0.0\n",
      "(2001, 1002) [Chemical Shift Number MR]          IS: '0'\n",
      "(2001, 1003) [Diffusion B-Factor]                FL: 0.0\n",
      "(2001, 1006) [Image Enhanced]                    CS: 'N'\n",
      "(2001, 1007) [Image Type ED ES]                  CS: 'U'\n",
      "(2001, 1008) [Phase Number]                      IS: '1'\n",
      "(2001, 1009) [Unknown]                           FL: 0.0\n",
      "(2001, 100a) [Slice Number MR]                   IS: '23'\n",
      "(2001, 100b) [Slice Orientation]                 CS: 'SAGITTAL'\n",
      "(2001, 100c) [Unknown]                           CS: 'N'\n",
      "(2001, 100e) [Unknown]                           CS: 'N'\n",
      "(2001, 100f) [Unknown]                           SS: 0\n",
      "(2001, 1010) [Cardiac Sync]                      CS: 'NO'\n",
      "(2001, 1011) [Diffusion Echo Time]               FL: 0.0\n",
      "(2001, 1012) [Dynamic Series]                    CS: 'N'\n",
      "(2001, 1013) [EPI Factor]                        SL: 1\n",
      "(2001, 1014) [Number of Echoes]                  SL: 1\n",
      "(2001, 1015) [Number of Locations]               SS: 1\n",
      "(2001, 1016) [Number of PC Directions]           SS: 0\n",
      "(2001, 1017) [Number of Phases MR]               SL: 1\n",
      "(2001, 1018) [Number of Slices MR]               SL: 24\n",
      "(2001, 1019) [Partial Matrix Scanned]            CS: 'N'\n",
      "(2001, 101a) [PC Velocity]                       FL: [0.0, 0.0, 0.0]\n",
      "(2001, 101b) [Prepulse Delay]                    FL: 0.0\n",
      "(2001, 101c) [Prepulse Type]                     CS: 'NO'\n",
      "(2001, 101d) [Reconstruction Number MR]          IS: '1'\n",
      "(2001, 101f) [Respiration Sync]                  CS: 'NO'\n",
      "(2001, 1020) [Scanning Technique Description MR] LO: 'SE'\n",
      "(2001, 1021) [SPIR]                              CS: 'N'\n",
      "(2001, 1022) [Water Fat Shift]                   FL: 2.09724497795105\n",
      "(2001, 1023) [Flip Angle Philips]                DS: '90.0'\n",
      "(2001, 1024) [Interactive]                       CS: 'N'\n",
      "(2001, 1025) [Echo Time Display MR]              SH: '10'\n",
      "(2001, 105f)  [Stack Sequence]  0 item(s) ---- \n",
      "(2001, 1060) [Number of Stacks]                  SL: 1\n",
      "(2001, 1061) [Unknown]                           CS: 'N'\n",
      "(2001, 1062) [Unknown]                           CS: 'N'\n",
      "(2001, 107b) [Acquisition Number]                IS: '3'\n",
      "(2001, 1081) [Number of Dynamic Scans]           IS: '1'\n",
      "(2001, 1082) [Echo Train Length]                 IS: '1'\n",
      "(2001, 1083) [Imaging Frequency]                 DS: '127.775608999999'\n",
      "(2001, 1084) [Inversion Time]                    DS: '0.0'\n",
      "(2001, 1085) [Magnetic Field Strength]           DS: '3.0'\n",
      "(2001, 1086) [Unknown]                           IS: '0'\n",
      "(2001, 1087) [Imaged Nucleus]                    SH: '1H'\n",
      "(2001, 1088) [Number of Averages]                DS: '1.0'\n",
      "(2001, 1089) [Phase FOV Percent]                 DS: '0.0'\n",
      "(2001, 108a) [Sampling Percent]                  DS: '0.0'\n",
      "(2001, 108b) [Unknown]                           SH: 'B'\n",
      "(2001, 10f1) [Prospective Motion Correction]     FL: [0.0, 0.0, 0.0, 0.0, 0.0, 0.0]\n",
      "(2005, 0010) Private Creator                     LO: 'Philips MR Imaging DD 001'\n",
      "(2005, 0011) Private Creator                     LO: 'Philips MR Imaging DD 002'\n",
      "(2005, 0012) Private Creator                     LO: 'Philips MR Imaging DD 003'\n",
      "(2005, 0013) Private Creator                     LO: 'Philips MR Imaging DD 004'\n",
      "(2005, 0014) Private Creator                     LO: 'Philips MR Imaging DD 005'\n",
      "(2005, 1000) [Unknown]                           FL: -2.7249882221221924\n",
      "(2005, 1001) [Unknown]                           FL: -1.4794549942016602\n",
      "(2005, 1002) [Unknown]                           FL: -0.18322277069091797\n",
      "(2005, 1004) [Unknown]                           CS: 'NONE'\n",
      "(2005, 1008) [Unknown]                           FL: -3.167565107345581\n",
      "(2005, 1009) [Unknown]                           FL: -5.007810115814209\n",
      "(2005, 100a) [Unknown]                           FL: -51.92148208618164\n",
      "(2005, 100b) [Unknown]                           FL: 1057301.5\n",
      "(2005, 100c) [Unknown]                           FL: 0.0\n",
      "(2005, 100d) [Unknown]                           FL: 0.0\n",
      "(2005, 100e) [Unknown]                           FL: 0.001472287462092936\n",
      "(2005, 100f) [Window Center]                     DS: '873.0'\n",
      "(2005, 1010) [Window Width]                      DS: '1518.0'\n",
      "(2005, 1011) [Unknown]                           CS: 'M'\n",
      "(2005, 1012) [Unknown]                           CS: 'N'\n",
      "(2005, 1013) [Unknown]                           CS: 'NO'\n",
      "(2005, 1014) [Unknown]                           CS: 'N'\n",
      "(2005, 1015) [Unknown]                           CS: 'N'\n",
      "(2005, 1016) [Unknown]                           CS: 'Y'\n",
      "(2005, 1017) [Unknown]                           CS: 'N'\n",
      "(2005, 1019) [Unknown]                           CS: 'N'\n",
      "(2005, 101a) [Unknown]                           SS: 0\n",
      "(2005, 101b) [Unknown]                           CS: 'N'\n",
      "(2005, 101c) [Unknown]                           CS: 'N'\n",
      "(2005, 101d) [Unknown]                           SS: 256\n",
      "(2005, 101e) [Unknown]                           SH: 'compose'\n",
      "(2005, 101f) [Unknown]                           SH: 'compose'\n",
      "(2005, 1020) [Number of Chemical Shift]          SL: 0\n",
      "(2005, 1021) [Unknown]                           SS: 1\n",
      "(2005, 1022) [Unknown]                           IS: '0'\n",
      "(2005, 1023) [Unknown]                           SS: 0\n",
      "(2005, 1025) [Unknown]                           SS: 0\n",
      "(2005, 1026) [Unknown]                           CS: 'N'\n",
      "(2005, 1027) [Unknown]                           CS: 'MINIMUM'\n",
      "(2005, 1028) [Unknown]                           CS: 'N'\n",
      "(2005, 1029) [Unknown]                           CS: 'N'\n",
      "(2005, 102b) [Unknown]                           SS: 100\n",
      "(2005, 102c) [Unknown]                           CS: 'N'\n",
      "(2005, 102d) [Unknown]                           IS: '0'\n",
      "(2005, 102e) [Unknown]                           CS: 'N'\n",
      "(2005, 102f) [Unknown]                           CS: 'N'\n",
      "(2005, 1030) [Repetition Time]                   FL: 500.0\n",
      "(2005, 1031) [Unknown]                           CS: 'N'\n",
      "(2005, 1033) [Acquisition Duration]              FL: 312.0\n",
      "(2005, 1034) [Unknown]                           CS: 'N'\n",
      "(2005, 1035) [Unknown]                           CS: 'PIXEL'\n",
      "(2005, 1036) [Unknown]                           CS: 'N'\n",
      "(2005, 1037) [Unknown]                           CS: 'N'\n",
      "(2005, 1038) [Unknown]                           CS: 'N'\n",
      "(2005, 1039) [Unknown]                           CS: 'Y'\n",
      "(2005, 103b) [Unknown]                           CS: 'N'\n",
      "(2005, 103c) [Unknown]                           CS: 'N'\n",
      "(2005, 103d) [Unknown]                           SS: 102\n",
      "(2005, 103e) [Unknown]                           SL: Array of 102 elements\n",
      "(2005, 105f) [Unknown]                           CS: 'UNKNOWN'\n",
      "(2005, 1060) [Unknown]                           IS: '-1'\n",
      "(2005, 1061) [Unknown]                           CS: 'NO'\n",
      "(2005, 1063) [Unknown]                           SS: 0\n",
      "(2005, 106e) [Unknown]                           CS: 'SE'\n",
      "(2005, 106f) [Unknown]                           CS: 'MS'\n",
      "(2005, 1080)  [Unknown]  0 item(s) ---- \n",
      "(2005, 1084)  [Unknown]  0 item(s) ---- \n",
      "(2005, 1085)  [Unknown]  0 item(s) ---- \n",
      "(2005, 1086) [Unknown]                           SS: 0\n",
      "(2005, 109e)  [Unknown]  0 item(s) ---- \n",
      "(2005, 10a0) [Unknown]                           FL: 0.0\n",
      "(2005, 10a1) [Syncra Scan Type]                  CS: 'SYN_CLASSIC'\n",
      "(2005, 10a2) [Unknown]                           CS: 'N'\n",
      "(2005, 10a8) [Unknown]                           DS: '0.0'\n",
      "(2005, 10a9) [Unknown]                           CS: '2D'\n",
      "(2005, 10b0) [Diffusion Direction RL]            FL: 0.0\n",
      "(2005, 10b1) [Diffusion Direction AP]            FL: 0.0\n",
      "(2005, 10b2) [Diffusion Direction FH]            FL: 0.0\n",
      "(2005, 10c0) [Unknown]                           CS: 'SE'\n",
      "(2005, 1199) [Unknown]                           UL: 1\n",
      "(2005, 1200) [Unknown]                           UL: 1\n",
      "(2005, 1201) [Unknown]                           UL: 0\n",
      "(2005, 1213) [Unknown]                           UL: 1\n",
      "(2005, 1245) [Unknown]                           SS: 2\n",
      "(2005, 1251) [Unknown]                           SS: 0\n",
      "(2005, 1252) [Unknown]                           SS: 1\n",
      "(2005, 1253) [Unknown]                           SS: 1\n",
      "(2005, 1325) [Unknown]                           CS: 'N'\n",
      "(2005, 1326) [Unknown]                           FL: 0.0\n",
      "(2005, 1327) [Unknown]                           CS: 'REAL'\n",
      "(2005, 1328) [Unknown]                           CS: 'ORIGINAL'\n",
      "(2005, 1329) [Unknown]                           FL: 50.0\n",
      "(2005, 1330) [Unknown]                           CS: ['PLUS_A_PLUS_B', 'PLUS_A_PLUS_B', 'PLUS_A_PLUS_B', 'PLUS_A_PLUS_B']\n",
      "(2005, 1331) [Unknown]                           SS: 0\n",
      "(2005, 1333) [Unknown]                           FL: 0.0\n",
      "(2005, 1334) [Unknown]                           CS: 'UNKNOWN'\n",
      "(2005, 1335) [Unknown]                           CS: 'UNKNOWN'\n",
      "(2005, 1336) [Unknown]                           FL: 0.0\n",
      "(2005, 1337) [Unknown]                           FL: 0.0\n",
      "(2005, 1338) [Unknown]                           FL: 0.0\n",
      "(2005, 1339) [Unknown]                           SS: [0, 0]\n",
      "(2005, 1340) [Unknown]                           CS: 'PRE_FT'\n",
      "(2005, 1341) [Unknown]                           CS: 'UNKNOWN'\n",
      "(2005, 1342) [Unknown]                           CS: 'FID'\n",
      "(2005, 1343) [Unknown]                           CS: 'Y'\n",
      "(2005, 1344) [Unknown]                           SS: Array of 40 elements\n",
      "(2005, 1345) [Unknown]                           CS: 'NO'\n",
      "(2005, 1346) [Unknown]                           CS: 'HERTZ'\n",
      "(2005, 1347) [Unknown]                           FL: 0.0\n",
      "(2005, 1348) [Unknown]                           CS: 'OFF'\n",
      "(2005, 1349) [Unknown]                           FL: 0.0\n",
      "(2005, 1350) [Unknown]                           FL: [0.0, 0.0]\n",
      "(2005, 1351) [Unknown]                           SS: 0\n",
      "(2005, 1352) [Unknown]                           SS: 0\n",
      "(2005, 1355) [Unknown]                           FL: Array of 30 elements\n",
      "(2005, 1356) [Unknown]                           CS: 'NO'\n",
      "(2005, 1357) [Unknown]                           SS: 0\n",
      "(2005, 1359) [Unknown]                           FL: 1.0\n",
      "(2005, 1360) [Unknown]                           FL: 0.0\n",
      "(2005, 1361) [Unknown]                           FL: [0.0, 0.0]\n",
      "(2005, 1362) [Unknown]                           FL: 0.0\n",
      "(2005, 1363) [Unknown]                           FL: 0.0\n",
      "(2005, 1364) [Unknown]                           CS: 'NO'\n",
      "(2005, 1370) [Unknown]                           SS: 0\n",
      "(2005, 1371)  [Unknown]  0 item(s) ---- \n",
      "(2005, 1381) [Unknown]                           IS: '3'\n",
      "(2005, 1382) [Unknown]                           UL: 1\n",
      "(2005, 1392) [Unknown]                           IS: '0'\n",
      "(2005, 1393) [Unknown]                           IS: '-1'\n",
      "(2005, 1396) [Unknown]                           CS: 'NO'\n",
      "(2005, 1397) [Unknown]                           LO: 'SNM3.T-D1600.Neck'\n",
      "(2005, 1398) [Unknown]                           CS: 'NO'\n",
      "(2005, 1399) [Unknown]                           CS: 'NO'\n",
      "(2005, 1400) [Unknown]                           CS: 'YES'\n",
      "(2005, 1401) [Unknown]                           UL: 1\n",
      "(2005, 1403) [Unknown]                           UL: 1\n",
      "(2005, 1406) [Unknown]                           SS: 0\n",
      "(2005, 1409) [Unknown]                           DS: '0.0'\n",
      "(2005, 140a) [Unknown]                           DS: '1.68278388278388'\n",
      "(2005, 140b) [Unknown]                           LO: 'normalized'\n",
      "(2005, 1412) [Unknown]                           IS: '1'\n",
      "(2005, 1413) [Unknown]                           IS: '1'\n",
      "(2005, 1414) [Unknown]                           SL: 1\n",
      "(2005, 1415) [Unknown]                           SL: 1\n",
      "(2005, 1416) [Unknown]                           CS: 'MAN'\n",
      "(2005, 1418) [Unknown]                           CS: ['STATIC FIELD', 'RF', 'GRADIENT']\n",
      "(2005, 1419) [Unknown]                           CS: ['IEC_FIRST_LEVEL', 'IEC_NORMAL', 'IEC_NORMAL']\n",
      "(2005, 141b) [Unknown]                           IS: '0'\n",
      "(2005, 141c) [Unknown]                           IS: '0'\n",
      "(2005, 141d) [Unknown]                           IS: '0'\n",
      "(2005, 1426) [Unknown]                           CS: 'N'\n",
      "(2005, 1428) [Unknown]                           SL: 0\n",
      "(2005, 142a) [Unknown]                           CS: 'INITIAL'\n",
      "(2005, 142b) [Unknown]                           CS: 'INITIAL'\n",
      "(2005, 142c) [Unknown]                           CS: 'INITIAL'\n",
      "(2005, 142d) [Unknown]                           CS: 'INITIAL'\n",
      "(2005, 1432) [Unknown]                           CS: 'N'\n",
      "(2005, 1435) [Unknown]                           CS: 'N'\n",
      "(2005, 143a) [Unknown]                           LT: 'datadefs $Revision: 26.2 $'\n",
      "(2005, 143b) [Unknown]                           CS: 'N'\n",
      "(2005, 143f) [Unknown]                           CS: 'N'\n",
      "(2005, 1440) [Unknown]                           FL: 0.0\n",
      "(2005, 1441) [Unknown]                           FL: 0.0\n",
      "(2005, 1442) [Unknown]                           FL: 0.0\n",
      "(2005, 1443) [Unknown]                           FL: 0.0\n",
      "(2005, 1444) [Unknown]                           IS: '0'\n",
      "(2005, 1445) [Unknown]                           CS: 'N'\n",
      "(2005, 1447) [Unknown]                           FL: 0.0\n",
      "(2005, 144a) [Unknown]                           FL: 0.0\n",
      "(2005, 144b) [Unknown]                           FL: 0.0\n",
      "(2005, 144c) [Unknown]                           FL: 0.0\n",
      "(2005, 144d) [Unknown]                           CS: 'N'\n",
      "(2005, 144e) [Unknown]                           CS: 'N'\n",
      "(2005, 144f) [Unknown]                           CS: 'NONE'\n",
      "(2005, 1450) [Unknown]                           SS: 0\n",
      "(2050, 0020) Presentation LUT Shape              CS: 'IDENTITY'\n",
      "(7fe0, 0010) Pixel Data                          OW: Array of 524288 elements\n"
     ]
    }
   ],
   "source": [
    "file_path3 = r'301.000000-T1WSE-68254\\1-23.dcm'\n",
    "path = os.path.join(base_path, file_path3)\n",
    "mri_image3 = pydicom.dcmread(path)\n",
    "print(mri_image3)"
   ]
  },
  {
   "cell_type": "code",
   "execution_count": 66,
   "id": "72432e3b",
   "metadata": {},
   "outputs": [
    {
     "data": {
      "text/plain": [
       "numpy.ndarray"
      ]
     },
     "execution_count": 66,
     "metadata": {},
     "output_type": "execute_result"
    }
   ],
   "source": [
    "type(mri_image3.pixel_array)"
   ]
  },
  {
   "cell_type": "code",
   "execution_count": 67,
   "id": "1aa0a5d1",
   "metadata": {},
   "outputs": [
    {
     "data": {
      "text/plain": [
       "array([[0, 0, 0, ..., 0, 0, 0],\n",
       "       [0, 0, 0, ..., 0, 0, 0],\n",
       "       [0, 0, 0, ..., 0, 0, 0],\n",
       "       ...,\n",
       "       [0, 0, 0, ..., 0, 0, 0],\n",
       "       [0, 0, 0, ..., 0, 0, 0],\n",
       "       [0, 0, 0, ..., 0, 0, 0]], dtype=uint16)"
      ]
     },
     "execution_count": 67,
     "metadata": {},
     "output_type": "execute_result"
    }
   ],
   "source": [
    "mri_image3.pixel_array"
   ]
  },
  {
   "cell_type": "code",
   "execution_count": 68,
   "id": "5f045482",
   "metadata": {},
   "outputs": [
    {
     "data": {
      "text/plain": [
       "(512, 512)"
      ]
     },
     "execution_count": 68,
     "metadata": {},
     "output_type": "execute_result"
    }
   ],
   "source": [
    "mri_image3.pixel_array.shape"
   ]
  },
  {
   "cell_type": "code",
   "execution_count": 69,
   "id": "621289a0",
   "metadata": {},
   "outputs": [
    {
     "data": {
      "text/plain": [
       "array([[  0,   0,   0, ...,   0,   0,   0],\n",
       "       [  0,   0,   0, ...,   0,   0,   0],\n",
       "       [  0,   0,   0, ...,   0,   0,   0],\n",
       "       ...,\n",
       "       [  0,   0, 188, ...,  90, 184,   0],\n",
       "       [  0,   0, 231, ..., 146, 261,   0],\n",
       "       [  0,   0, 232, ..., 114, 223,   0]], dtype=uint16)"
      ]
     },
     "execution_count": 69,
     "metadata": {},
     "output_type": "execute_result"
    }
   ],
   "source": [
    "mri_image3.pixel_array[0:100]"
   ]
  },
  {
   "cell_type": "code",
   "execution_count": 70,
   "id": "5a2d0f32",
   "metadata": {},
   "outputs": [],
   "source": [
    "cv2.imshow(f'image: {file_path3}',mri_image3.pixel_array)  \n",
    "cv2.waitKey(0)\n",
    "cv2.destroyAllWindows()"
   ]
  },
  {
   "cell_type": "markdown",
   "id": "d362d874",
   "metadata": {},
   "source": [
    "# ...and the above image displays all black. Unclear what the issue is here."
   ]
  },
  {
   "cell_type": "markdown",
   "id": "64642c1f",
   "metadata": {},
   "source": [
    "### Additional exploration"
   ]
  },
  {
   "cell_type": "code",
   "execution_count": 33,
   "id": "ebcf3953",
   "metadata": {},
   "outputs": [
    {
     "data": {
      "text/plain": [
       "(0008, 0005) Specific Character Set              CS: 'ISO_IR 100'"
      ]
     },
     "execution_count": 33,
     "metadata": {},
     "output_type": "execute_result"
    }
   ],
   "source": [
    "elem = mri_image[0x0008, 0x0005]\n",
    "elem"
   ]
  },
  {
   "cell_type": "code",
   "execution_count": 34,
   "id": "cdad8e7b",
   "metadata": {},
   "outputs": [
    {
     "data": {
      "text/plain": [
       "'SpecificCharacterSet'"
      ]
     },
     "execution_count": 34,
     "metadata": {},
     "output_type": "execute_result"
    }
   ],
   "source": [
    "elem.keyword"
   ]
  },
  {
   "cell_type": "code",
   "execution_count": 35,
   "id": "e4ab948a",
   "metadata": {},
   "outputs": [
    {
     "data": {
      "text/plain": [
       "(0008, 103e) Series Description                  LO: 'FLAIR'"
      ]
     },
     "execution_count": 35,
     "metadata": {},
     "output_type": "execute_result"
    }
   ],
   "source": [
    "elem2 = mri_image['SeriesDescription']\n",
    "elem2"
   ]
  },
  {
   "cell_type": "code",
   "execution_count": 36,
   "id": "74e321bd",
   "metadata": {},
   "outputs": [
    {
     "data": {
      "text/plain": [
       "'FLAIR'"
      ]
     },
     "execution_count": 36,
     "metadata": {},
     "output_type": "execute_result"
    }
   ],
   "source": [
    "elem2.value"
   ]
  },
  {
   "cell_type": "code",
   "execution_count": 37,
   "id": "91bd8d4a",
   "metadata": {},
   "outputs": [
    {
     "data": {
      "text/plain": [
       "(0020, 0032) Image Position (Patient)            DS: [75.71598816, -175.28321568, 105.86288376]"
      ]
     },
     "execution_count": 37,
     "metadata": {},
     "output_type": "execute_result"
    }
   ],
   "source": [
    "elem3 = mri_image[0x0020, 0x0032]\n",
    "elem3"
   ]
  },
  {
   "cell_type": "code",
   "execution_count": 38,
   "id": "3751eab6",
   "metadata": {},
   "outputs": [
    {
     "data": {
      "text/plain": [
       "'ImagePositionPatient'"
      ]
     },
     "execution_count": 38,
     "metadata": {},
     "output_type": "execute_result"
    }
   ],
   "source": [
    "elem3.keyword"
   ]
  },
  {
   "cell_type": "code",
   "execution_count": 39,
   "id": "ba989b57",
   "metadata": {},
   "outputs": [
    {
     "data": {
      "text/plain": [
       "[75.71598816, -175.28321568, 105.86288376]"
      ]
     },
     "execution_count": 39,
     "metadata": {},
     "output_type": "execute_result"
    }
   ],
   "source": [
    "elem3.value"
   ]
  },
  {
   "cell_type": "code",
   "execution_count": 40,
   "id": "713ba8a5",
   "metadata": {},
   "outputs": [
    {
     "data": {
      "text/plain": [
       "bytes"
      ]
     },
     "execution_count": 40,
     "metadata": {},
     "output_type": "execute_result"
    }
   ],
   "source": [
    "pixel_data = mri_image.PixelData\n",
    "type(pixel_data)"
   ]
  },
  {
   "cell_type": "code",
   "execution_count": 41,
   "id": "4a43ea5c",
   "metadata": {},
   "outputs": [
    {
     "data": {
      "text/plain": [
       "b'\\x00\\x00\\x00\\x00\\x00\\x00\\x00\\x00'"
      ]
     },
     "execution_count": 41,
     "metadata": {},
     "output_type": "execute_result"
    }
   ],
   "source": [
    "pixel_data[0:8]"
   ]
  },
  {
   "cell_type": "code",
   "execution_count": 42,
   "id": "eadde16e",
   "metadata": {},
   "outputs": [
    {
     "data": {
      "text/plain": [
       "numpy.ndarray"
      ]
     },
     "execution_count": 42,
     "metadata": {},
     "output_type": "execute_result"
    }
   ],
   "source": [
    "type(mri_image.pixel_array)"
   ]
  }
 ],
 "metadata": {
  "kernelspec": {
   "display_name": "Python 3 (ipykernel)",
   "language": "python",
   "name": "python3"
  },
  "language_info": {
   "codemirror_mode": {
    "name": "ipython",
    "version": 3
   },
   "file_extension": ".py",
   "mimetype": "text/x-python",
   "name": "python",
   "nbconvert_exporter": "python",
   "pygments_lexer": "ipython3",
   "version": "3.8.8"
  }
 },
 "nbformat": 4,
 "nbformat_minor": 5
}
